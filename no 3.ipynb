{
 "cells": [
  {
   "cell_type": "code",
   "execution_count": null,
   "id": "3dc6e61f",
   "metadata": {},
   "outputs": [],
   "source": [
    "# Melakukan import mysql connector\n",
    "import mysql.connector\n",
    "\n",
    "# Melakukan percobaan koneksi\n",
    "conn = mysql.connector.connect(\n",
    "    host=\"localhost\", user=\"root\", password=\"DE2023\", database=\"Kalbe\")\n",
    "\n",
    "# Membuat object cursor sebagai penanda\n",
    "cursor = conn.cursor()\n",
    "\n",
    "# Deklarasi SQL Query untuk memasukkan record ke Database (KARYAWAN)\n",
    "insert_sql = (\n",
    "    \"INSERT INTO KARYAWAN (FIRST_NAME, LAST_NAME, AGE, SEX, INCOME)\"\n",
    "    \"VALUES (%s, %s, %s, %s, %s)\"\n",
    ")\n",
    "values = (\"Monkey\", \"Luffy\", 22, \"Male\", 3000000000)\n",
    "\n",
    "try:\n",
    "    # Eksekusi SQL Command \n",
    "    cursor.execute(insert_sql, values)\n",
    "\n",
    "    # Melakukan perubahan (commit) pada Database\n",
    "    conn.commit()\n",
    "    \n",
    "except Exception as e:\n",
    "    # Roll back apabila ada issue\n",
    "    print(f\"Error: {e}\")\n",
    "    conn.rollback()\n",
    "\n",
    "# Menutup koneksi\n",
    "cursor.close()\n",
    "conn.close()"
   ]
  }
 ],
 "metadata": {
  "kernelspec": {
   "display_name": "base",
   "language": "python",
   "name": "python3"
  },
  "language_info": {
   "codemirror_mode": {
    "name": "ipython",
    "version": 3
   },
   "file_extension": ".py",
   "mimetype": "text/x-python",
   "name": "python",
   "nbconvert_exporter": "python",
   "pygments_lexer": "ipython3",
   "version": "3.11.4 | packaged by Anaconda, Inc. | (main, Jul  5 2023, 13:38:37) [MSC v.1916 64 bit (AMD64)]"
  },
  "vscode": {
   "interpreter": {
    "hash": "67bfac4f4aefe1c16f1836a62d55b6e6baa7aba1ac5ce70e93ee8e90eb4f073a"
   }
  }
 },
 "nbformat": 4,
 "nbformat_minor": 5
}
